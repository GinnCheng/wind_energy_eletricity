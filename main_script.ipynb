{
 "cells": [
  {
   "cell_type": "code",
   "execution_count": 14,
   "id": "a33c5de2-9cd5-46ea-8395-3aa7fe12a998",
   "metadata": {},
   "outputs": [
    {
     "name": "stdout",
     "output_type": "stream",
     "text": [
      "time_series_15min_singleindex.csv\n"
     ]
    }
   ],
   "source": [
    "%ls ../../Datasets/from_candice/"
   ]
  },
  {
   "cell_type": "code",
   "execution_count": 15,
   "id": "45fdd81a-566f-43c7-8d5d-26ccf01b4c32",
   "metadata": {},
   "outputs": [],
   "source": [
    "import pandas as pd\n",
    "import matplotlib.pyplot as plt\n",
    "import seaborn as sns\n",
    "import warnings\n",
    "warnings.filterwarnings(\"ignore\")"
   ]
  },
  {
   "cell_type": "code",
   "execution_count": 16,
   "id": "88f0bfc9-d010-471c-b15b-5d3ccd24abbf",
   "metadata": {},
   "outputs": [],
   "source": [
    "file_path = '../../Datasets/from_candice/time_series_15min_singleindex.csv'"
   ]
  },
  {
   "cell_type": "code",
   "execution_count": 17,
   "id": "3766e86c-742e-4c95-b965-49a3dc02a7fb",
   "metadata": {},
   "outputs": [],
   "source": [
    "df = pd.read_csv(file_path)"
   ]
  },
  {
   "cell_type": "code",
   "execution_count": 18,
   "id": "c1ac0b87-3bda-4fbd-9ccb-f660cb6cca89",
   "metadata": {},
   "outputs": [
    {
     "data": {
      "text/plain": [
       "HU_solar_generation_actual                    165745\n",
       "DE_LU_load_forecast_entsoe_transparency       134982\n",
       "DE_LU_load_actual_entsoe_transparency         131509\n",
       "DE_LU_solar_generation_actual                 131451\n",
       "DE_LU_wind_offshore_generation_actual         131422\n",
       "                                               ...  \n",
       "DE_50hertz_wind_onshore_generation_actual          6\n",
       "DE_50hertz_wind_offshore_generation_actual         6\n",
       "DE_50hertz_wind_generation_actual                  6\n",
       "cet_cest_timestamp                                 0\n",
       "utc_timestamp                                      0\n",
       "Length: 61, dtype: int64"
      ]
     },
     "execution_count": 18,
     "metadata": {},
     "output_type": "execute_result"
    }
   ],
   "source": [
    "df.isnull().sum().sort_values(ascending=False)"
   ]
  },
  {
   "cell_type": "code",
   "execution_count": 19,
   "id": "287d3543-2e98-4f16-834d-48d685db2648",
   "metadata": {},
   "outputs": [
    {
     "data": {
      "text/plain": [
       "(201604, 61)"
      ]
     },
     "execution_count": 19,
     "metadata": {},
     "output_type": "execute_result"
    }
   ],
   "source": [
    "df.shape"
   ]
  },
  {
   "cell_type": "code",
   "execution_count": 20,
   "id": "5593aa66-e0e0-42bb-ad28-9196cd6f4c38",
   "metadata": {},
   "outputs": [],
   "source": [
    "# select Germany only for better data view\n",
    "column_sl = df.filter(like='HU')"
   ]
  },
  {
   "cell_type": "code",
   "execution_count": 21,
   "id": "a700ac71-5921-4f8f-bb5b-5ca272652c3e",
   "metadata": {},
   "outputs": [],
   "source": [
    "# let's select Hungary at first\n",
    "hu_colns = [col for col in df.columns if col in ['utc_timestamp']+column_sl.columns.tolist()]"
   ]
  },
  {
   "cell_type": "code",
   "execution_count": 22,
   "id": "a1903b69-a9f8-4062-80d2-924340f694ac",
   "metadata": {},
   "outputs": [],
   "source": [
    "df_hu = df[hu_colns]"
   ]
  },
  {
   "cell_type": "code",
   "execution_count": 23,
   "id": "6e1fcb0f-c226-4fef-8958-1df5b5ea81cb",
   "metadata": {},
   "outputs": [
    {
     "data": {
      "text/html": [
       "<div>\n",
       "<style scoped>\n",
       "    .dataframe tbody tr th:only-of-type {\n",
       "        vertical-align: middle;\n",
       "    }\n",
       "\n",
       "    .dataframe tbody tr th {\n",
       "        vertical-align: top;\n",
       "    }\n",
       "\n",
       "    .dataframe thead th {\n",
       "        text-align: right;\n",
       "    }\n",
       "</style>\n",
       "<table border=\"1\" class=\"dataframe\">\n",
       "  <thead>\n",
       "    <tr style=\"text-align: right;\">\n",
       "      <th></th>\n",
       "      <th>utc_timestamp</th>\n",
       "      <th>HU_load_actual_entsoe_transparency</th>\n",
       "      <th>HU_load_forecast_entsoe_transparency</th>\n",
       "      <th>HU_solar_generation_actual</th>\n",
       "      <th>HU_wind_onshore_generation_actual</th>\n",
       "    </tr>\n",
       "  </thead>\n",
       "  <tbody>\n",
       "    <tr>\n",
       "      <th>0</th>\n",
       "      <td>2014-12-31T23:00:00Z</td>\n",
       "      <td>NaN</td>\n",
       "      <td>NaN</td>\n",
       "      <td>NaN</td>\n",
       "      <td>NaN</td>\n",
       "    </tr>\n",
       "    <tr>\n",
       "      <th>1</th>\n",
       "      <td>2014-12-31T23:15:00Z</td>\n",
       "      <td>NaN</td>\n",
       "      <td>NaN</td>\n",
       "      <td>NaN</td>\n",
       "      <td>NaN</td>\n",
       "    </tr>\n",
       "    <tr>\n",
       "      <th>2</th>\n",
       "      <td>2014-12-31T23:30:00Z</td>\n",
       "      <td>NaN</td>\n",
       "      <td>NaN</td>\n",
       "      <td>NaN</td>\n",
       "      <td>NaN</td>\n",
       "    </tr>\n",
       "    <tr>\n",
       "      <th>3</th>\n",
       "      <td>2014-12-31T23:45:00Z</td>\n",
       "      <td>NaN</td>\n",
       "      <td>NaN</td>\n",
       "      <td>NaN</td>\n",
       "      <td>NaN</td>\n",
       "    </tr>\n",
       "    <tr>\n",
       "      <th>4</th>\n",
       "      <td>2015-01-01T00:00:00Z</td>\n",
       "      <td>NaN</td>\n",
       "      <td>NaN</td>\n",
       "      <td>NaN</td>\n",
       "      <td>NaN</td>\n",
       "    </tr>\n",
       "  </tbody>\n",
       "</table>\n",
       "</div>"
      ],
      "text/plain": [
       "          utc_timestamp  HU_load_actual_entsoe_transparency  \\\n",
       "0  2014-12-31T23:00:00Z                                 NaN   \n",
       "1  2014-12-31T23:15:00Z                                 NaN   \n",
       "2  2014-12-31T23:30:00Z                                 NaN   \n",
       "3  2014-12-31T23:45:00Z                                 NaN   \n",
       "4  2015-01-01T00:00:00Z                                 NaN   \n",
       "\n",
       "   HU_load_forecast_entsoe_transparency  HU_solar_generation_actual  \\\n",
       "0                                   NaN                         NaN   \n",
       "1                                   NaN                         NaN   \n",
       "2                                   NaN                         NaN   \n",
       "3                                   NaN                         NaN   \n",
       "4                                   NaN                         NaN   \n",
       "\n",
       "   HU_wind_onshore_generation_actual  \n",
       "0                                NaN  \n",
       "1                                NaN  \n",
       "2                                NaN  \n",
       "3                                NaN  \n",
       "4                                NaN  "
      ]
     },
     "execution_count": 23,
     "metadata": {},
     "output_type": "execute_result"
    }
   ],
   "source": [
    "df_hu.head()"
   ]
  },
  {
   "cell_type": "code",
   "execution_count": 24,
   "id": "9c6f4fae-09e2-4c45-8b7b-ac8ed7c40b35",
   "metadata": {},
   "outputs": [
    {
     "data": {
      "text/plain": [
       "utc_timestamp                                0\n",
       "HU_load_actual_entsoe_transparency           6\n",
       "HU_load_forecast_entsoe_transparency       194\n",
       "HU_solar_generation_actual              165745\n",
       "HU_wind_onshore_generation_actual         8583\n",
       "dtype: int64"
      ]
     },
     "execution_count": 24,
     "metadata": {},
     "output_type": "execute_result"
    }
   ],
   "source": [
    "df_hu.isnull().sum()"
   ]
  },
  {
   "cell_type": "code",
   "execution_count": 25,
   "id": "0bfcf4b7-6872-49bd-850d-79279ff4d8c7",
   "metadata": {},
   "outputs": [],
   "source": [
    "# format the timestamp\n",
    "df_hu['utc_timestamp'] = pd.to_datetime(df_hu['utc_timestamp'])\n",
    "# df_hu['cet_cest_timestamp'] = pd.to_datetime(df_hu['cet_cest_timestamp'])"
   ]
  },
  {
   "cell_type": "code",
   "execution_count": 26,
   "id": "49163903-5adf-42e7-8055-01a634915260",
   "metadata": {},
   "outputs": [
    {
     "data": {
      "text/html": [
       "<div>\n",
       "<style scoped>\n",
       "    .dataframe tbody tr th:only-of-type {\n",
       "        vertical-align: middle;\n",
       "    }\n",
       "\n",
       "    .dataframe tbody tr th {\n",
       "        vertical-align: top;\n",
       "    }\n",
       "\n",
       "    .dataframe thead th {\n",
       "        text-align: right;\n",
       "    }\n",
       "</style>\n",
       "<table border=\"1\" class=\"dataframe\">\n",
       "  <thead>\n",
       "    <tr style=\"text-align: right;\">\n",
       "      <th></th>\n",
       "      <th>utc_timestamp</th>\n",
       "      <th>HU_load_actual_entsoe_transparency</th>\n",
       "      <th>HU_load_forecast_entsoe_transparency</th>\n",
       "      <th>HU_solar_generation_actual</th>\n",
       "      <th>HU_wind_onshore_generation_actual</th>\n",
       "    </tr>\n",
       "  </thead>\n",
       "  <tbody>\n",
       "    <tr>\n",
       "      <th>0</th>\n",
       "      <td>2014-12-31 23:00:00+00:00</td>\n",
       "      <td>NaN</td>\n",
       "      <td>NaN</td>\n",
       "      <td>NaN</td>\n",
       "      <td>NaN</td>\n",
       "    </tr>\n",
       "    <tr>\n",
       "      <th>1</th>\n",
       "      <td>2014-12-31 23:15:00+00:00</td>\n",
       "      <td>NaN</td>\n",
       "      <td>NaN</td>\n",
       "      <td>NaN</td>\n",
       "      <td>NaN</td>\n",
       "    </tr>\n",
       "    <tr>\n",
       "      <th>2</th>\n",
       "      <td>2014-12-31 23:30:00+00:00</td>\n",
       "      <td>NaN</td>\n",
       "      <td>NaN</td>\n",
       "      <td>NaN</td>\n",
       "      <td>NaN</td>\n",
       "    </tr>\n",
       "    <tr>\n",
       "      <th>3</th>\n",
       "      <td>2014-12-31 23:45:00+00:00</td>\n",
       "      <td>NaN</td>\n",
       "      <td>NaN</td>\n",
       "      <td>NaN</td>\n",
       "      <td>NaN</td>\n",
       "    </tr>\n",
       "    <tr>\n",
       "      <th>4</th>\n",
       "      <td>2015-01-01 00:00:00+00:00</td>\n",
       "      <td>NaN</td>\n",
       "      <td>NaN</td>\n",
       "      <td>NaN</td>\n",
       "      <td>NaN</td>\n",
       "    </tr>\n",
       "  </tbody>\n",
       "</table>\n",
       "</div>"
      ],
      "text/plain": [
       "              utc_timestamp  HU_load_actual_entsoe_transparency  \\\n",
       "0 2014-12-31 23:00:00+00:00                                 NaN   \n",
       "1 2014-12-31 23:15:00+00:00                                 NaN   \n",
       "2 2014-12-31 23:30:00+00:00                                 NaN   \n",
       "3 2014-12-31 23:45:00+00:00                                 NaN   \n",
       "4 2015-01-01 00:00:00+00:00                                 NaN   \n",
       "\n",
       "   HU_load_forecast_entsoe_transparency  HU_solar_generation_actual  \\\n",
       "0                                   NaN                         NaN   \n",
       "1                                   NaN                         NaN   \n",
       "2                                   NaN                         NaN   \n",
       "3                                   NaN                         NaN   \n",
       "4                                   NaN                         NaN   \n",
       "\n",
       "   HU_wind_onshore_generation_actual  \n",
       "0                                NaN  \n",
       "1                                NaN  \n",
       "2                                NaN  \n",
       "3                                NaN  \n",
       "4                                NaN  "
      ]
     },
     "execution_count": 26,
     "metadata": {},
     "output_type": "execute_result"
    }
   ],
   "source": [
    "df_hu.head()"
   ]
  },
  {
   "cell_type": "code",
   "execution_count": 28,
   "id": "49a90369-c0ec-4fa5-8584-1b7ab429c3e8",
   "metadata": {},
   "outputs": [],
   "source": [
    "df_hu.rename(columns={'utc_timestamp':'utc'}, inplace=True)"
   ]
  },
  {
   "cell_type": "code",
   "execution_count": 30,
   "id": "23e702e0-6e3b-47fa-9b6a-402bfb77d11e",
   "metadata": {},
   "outputs": [],
   "source": [
    "df_hu['year'] = df_hu.utc.dt.year\n",
    "df_hu['month'] = df_hu.utc.dt.month\n",
    "df_hu['day'] = df_hu.utc.dt.day"
   ]
  },
  {
   "cell_type": "code",
   "execution_count": 33,
   "id": "84749960-4991-441c-9cb9-e00cdce3ebbd",
   "metadata": {},
   "outputs": [
    {
     "data": {
      "text/html": [
       "<div>\n",
       "<style scoped>\n",
       "    .dataframe tbody tr th:only-of-type {\n",
       "        vertical-align: middle;\n",
       "    }\n",
       "\n",
       "    .dataframe tbody tr th {\n",
       "        vertical-align: top;\n",
       "    }\n",
       "\n",
       "    .dataframe thead th {\n",
       "        text-align: right;\n",
       "    }\n",
       "</style>\n",
       "<table border=\"1\" class=\"dataframe\">\n",
       "  <thead>\n",
       "    <tr style=\"text-align: right;\">\n",
       "      <th></th>\n",
       "      <th>utc</th>\n",
       "      <th>HU_load_actual_entsoe_transparency</th>\n",
       "      <th>HU_load_forecast_entsoe_transparency</th>\n",
       "      <th>HU_solar_generation_actual</th>\n",
       "      <th>HU_wind_onshore_generation_actual</th>\n",
       "      <th>year</th>\n",
       "      <th>month</th>\n",
       "      <th>day</th>\n",
       "    </tr>\n",
       "  </thead>\n",
       "  <tbody>\n",
       "    <tr>\n",
       "      <th>39693</th>\n",
       "      <td>2016-02-18 10:15:00+00:00</td>\n",
       "      <td>5647.66</td>\n",
       "      <td>5530.37</td>\n",
       "      <td>NaN</td>\n",
       "      <td>46.06</td>\n",
       "      <td>2016</td>\n",
       "      <td>2</td>\n",
       "      <td>18</td>\n",
       "    </tr>\n",
       "    <tr>\n",
       "      <th>153582</th>\n",
       "      <td>2019-05-19 18:30:00+00:00</td>\n",
       "      <td>4858.83</td>\n",
       "      <td>4770.14</td>\n",
       "      <td>NaN</td>\n",
       "      <td>14.71</td>\n",
       "      <td>2019</td>\n",
       "      <td>5</td>\n",
       "      <td>19</td>\n",
       "    </tr>\n",
       "    <tr>\n",
       "      <th>89589</th>\n",
       "      <td>2017-07-22 04:15:00+00:00</td>\n",
       "      <td>4065.62</td>\n",
       "      <td>3859.74</td>\n",
       "      <td>NaN</td>\n",
       "      <td>13.44</td>\n",
       "      <td>2017</td>\n",
       "      <td>7</td>\n",
       "      <td>22</td>\n",
       "    </tr>\n",
       "    <tr>\n",
       "      <th>179648</th>\n",
       "      <td>2020-02-15 07:00:00+00:00</td>\n",
       "      <td>5043.93</td>\n",
       "      <td>4963.10</td>\n",
       "      <td>187.43</td>\n",
       "      <td>23.71</td>\n",
       "      <td>2020</td>\n",
       "      <td>2</td>\n",
       "      <td>15</td>\n",
       "    </tr>\n",
       "    <tr>\n",
       "      <th>77182</th>\n",
       "      <td>2017-03-14 22:30:00+00:00</td>\n",
       "      <td>4611.66</td>\n",
       "      <td>4356.72</td>\n",
       "      <td>NaN</td>\n",
       "      <td>105.00</td>\n",
       "      <td>2017</td>\n",
       "      <td>3</td>\n",
       "      <td>14</td>\n",
       "    </tr>\n",
       "  </tbody>\n",
       "</table>\n",
       "</div>"
      ],
      "text/plain": [
       "                             utc  HU_load_actual_entsoe_transparency  \\\n",
       "39693  2016-02-18 10:15:00+00:00                             5647.66   \n",
       "153582 2019-05-19 18:30:00+00:00                             4858.83   \n",
       "89589  2017-07-22 04:15:00+00:00                             4065.62   \n",
       "179648 2020-02-15 07:00:00+00:00                             5043.93   \n",
       "77182  2017-03-14 22:30:00+00:00                             4611.66   \n",
       "\n",
       "        HU_load_forecast_entsoe_transparency  HU_solar_generation_actual  \\\n",
       "39693                                5530.37                         NaN   \n",
       "153582                               4770.14                         NaN   \n",
       "89589                                3859.74                         NaN   \n",
       "179648                               4963.10                      187.43   \n",
       "77182                                4356.72                         NaN   \n",
       "\n",
       "        HU_wind_onshore_generation_actual  year  month  day  \n",
       "39693                               46.06  2016      2   18  \n",
       "153582                              14.71  2019      5   19  \n",
       "89589                               13.44  2017      7   22  \n",
       "179648                              23.71  2020      2   15  \n",
       "77182                              105.00  2017      3   14  "
      ]
     },
     "execution_count": 33,
     "metadata": {},
     "output_type": "execute_result"
    }
   ],
   "source": [
    "# take a look at the data now\n",
    "df_hu.sample(5)"
   ]
  },
  {
   "cell_type": "code",
   "execution_count": 34,
   "id": "6a2e3d6b-5c53-439a-bcb9-729b3f286d6e",
   "metadata": {},
   "outputs": [],
   "source": [
    "# drop the na\n",
    "df_hu_cl = df_hu.dropna(axis=0)"
   ]
  },
  {
   "cell_type": "code",
   "execution_count": 35,
   "id": "1460e7af-d8dd-4087-84e9-2af55d31fa6e",
   "metadata": {},
   "outputs": [
    {
     "data": {
      "text/plain": [
       "utc                                     0\n",
       "HU_load_actual_entsoe_transparency      0\n",
       "HU_load_forecast_entsoe_transparency    0\n",
       "HU_solar_generation_actual              0\n",
       "HU_wind_onshore_generation_actual       0\n",
       "year                                    0\n",
       "month                                   0\n",
       "day                                     0\n",
       "dtype: int64"
      ]
     },
     "execution_count": 35,
     "metadata": {},
     "output_type": "execute_result"
    }
   ],
   "source": [
    "df_hu_cl.isnull().sum()"
   ]
  },
  {
   "cell_type": "code",
   "execution_count": 39,
   "id": "46ce7112-2b14-429e-bc72-6032a0836fb3",
   "metadata": {},
   "outputs": [],
   "source": [
    "# group the data find the daily average\n",
    "df_hu_Davg = pd.DataFrame(df_hu_cl.groupby(by=['year','month','day']).mean())"
   ]
  },
  {
   "cell_type": "code",
   "execution_count": 45,
   "id": "14aca90b-b556-40b6-9515-bc9728522958",
   "metadata": {},
   "outputs": [],
   "source": [
    "df_hu_Davg = df_hu_Davg.reset_index()"
   ]
  },
  {
   "cell_type": "code",
   "execution_count": 48,
   "id": "9e892c24-6dff-4962-b539-ba5b9ed65407",
   "metadata": {},
   "outputs": [],
   "source": [
    "df_hu_Davg.drop(columns='utc',inplace=True)"
   ]
  },
  {
   "cell_type": "code",
   "execution_count": 51,
   "id": "b4e1c5f3-0e1e-4fc3-a771-ff4f2cb7f2ab",
   "metadata": {},
   "outputs": [],
   "source": [
    "df_hu_Davg.sort_values(by=['year','month','day'],inplace=True)"
   ]
  },
  {
   "cell_type": "code",
   "execution_count": 52,
   "id": "5a3e309b-bc00-400c-bb2e-d810b721bb63",
   "metadata": {},
   "outputs": [
    {
     "data": {
      "text/html": [
       "<div>\n",
       "<style scoped>\n",
       "    .dataframe tbody tr th:only-of-type {\n",
       "        vertical-align: middle;\n",
       "    }\n",
       "\n",
       "    .dataframe tbody tr th {\n",
       "        vertical-align: top;\n",
       "    }\n",
       "\n",
       "    .dataframe thead th {\n",
       "        text-align: right;\n",
       "    }\n",
       "</style>\n",
       "<table border=\"1\" class=\"dataframe\">\n",
       "  <thead>\n",
       "    <tr style=\"text-align: right;\">\n",
       "      <th></th>\n",
       "      <th>year</th>\n",
       "      <th>month</th>\n",
       "      <th>day</th>\n",
       "      <th>HU_load_actual_entsoe_transparency</th>\n",
       "      <th>HU_load_forecast_entsoe_transparency</th>\n",
       "      <th>HU_solar_generation_actual</th>\n",
       "      <th>HU_wind_onshore_generation_actual</th>\n",
       "    </tr>\n",
       "  </thead>\n",
       "  <tbody>\n",
       "    <tr>\n",
       "      <th>162</th>\n",
       "      <td>2020</td>\n",
       "      <td>3</td>\n",
       "      <td>3</td>\n",
       "      <td>5443.331667</td>\n",
       "      <td>5377.903854</td>\n",
       "      <td>46.019688</td>\n",
       "      <td>120.875729</td>\n",
       "    </tr>\n",
       "    <tr>\n",
       "      <th>335</th>\n",
       "      <td>2020</td>\n",
       "      <td>8</td>\n",
       "      <td>23</td>\n",
       "      <td>3960.763958</td>\n",
       "      <td>3870.930313</td>\n",
       "      <td>229.090312</td>\n",
       "      <td>76.817188</td>\n",
       "    </tr>\n",
       "    <tr>\n",
       "      <th>350</th>\n",
       "      <td>2020</td>\n",
       "      <td>9</td>\n",
       "      <td>7</td>\n",
       "      <td>4784.802917</td>\n",
       "      <td>4376.682292</td>\n",
       "      <td>268.929375</td>\n",
       "      <td>107.391771</td>\n",
       "    </tr>\n",
       "    <tr>\n",
       "      <th>173</th>\n",
       "      <td>2020</td>\n",
       "      <td>3</td>\n",
       "      <td>14</td>\n",
       "      <td>4771.922812</td>\n",
       "      <td>4779.969271</td>\n",
       "      <td>219.741667</td>\n",
       "      <td>102.472917</td>\n",
       "    </tr>\n",
       "    <tr>\n",
       "      <th>12</th>\n",
       "      <td>2019</td>\n",
       "      <td>10</td>\n",
       "      <td>5</td>\n",
       "      <td>4630.265938</td>\n",
       "      <td>4291.139896</td>\n",
       "      <td>76.037083</td>\n",
       "      <td>161.620729</td>\n",
       "    </tr>\n",
       "    <tr>\n",
       "      <th>43</th>\n",
       "      <td>2019</td>\n",
       "      <td>11</td>\n",
       "      <td>5</td>\n",
       "      <td>5353.278750</td>\n",
       "      <td>5165.393437</td>\n",
       "      <td>51.741979</td>\n",
       "      <td>40.617292</td>\n",
       "    </tr>\n",
       "    <tr>\n",
       "      <th>33</th>\n",
       "      <td>2019</td>\n",
       "      <td>10</td>\n",
       "      <td>26</td>\n",
       "      <td>4547.082500</td>\n",
       "      <td>4420.777500</td>\n",
       "      <td>141.480208</td>\n",
       "      <td>28.962812</td>\n",
       "    </tr>\n",
       "    <tr>\n",
       "      <th>346</th>\n",
       "      <td>2020</td>\n",
       "      <td>9</td>\n",
       "      <td>3</td>\n",
       "      <td>4714.163542</td>\n",
       "      <td>4435.379063</td>\n",
       "      <td>242.023854</td>\n",
       "      <td>13.868333</td>\n",
       "    </tr>\n",
       "    <tr>\n",
       "      <th>357</th>\n",
       "      <td>2020</td>\n",
       "      <td>9</td>\n",
       "      <td>14</td>\n",
       "      <td>4884.174479</td>\n",
       "      <td>4605.015625</td>\n",
       "      <td>299.658958</td>\n",
       "      <td>5.386250</td>\n",
       "    </tr>\n",
       "    <tr>\n",
       "      <th>2</th>\n",
       "      <td>2019</td>\n",
       "      <td>9</td>\n",
       "      <td>25</td>\n",
       "      <td>4945.151081</td>\n",
       "      <td>4713.277703</td>\n",
       "      <td>33.244865</td>\n",
       "      <td>27.195405</td>\n",
       "    </tr>\n",
       "    <tr>\n",
       "      <th>62</th>\n",
       "      <td>2019</td>\n",
       "      <td>11</td>\n",
       "      <td>24</td>\n",
       "      <td>4642.486563</td>\n",
       "      <td>4340.946563</td>\n",
       "      <td>105.838229</td>\n",
       "      <td>98.069479</td>\n",
       "    </tr>\n",
       "    <tr>\n",
       "      <th>334</th>\n",
       "      <td>2020</td>\n",
       "      <td>8</td>\n",
       "      <td>22</td>\n",
       "      <td>4000.430208</td>\n",
       "      <td>3867.348229</td>\n",
       "      <td>328.042604</td>\n",
       "      <td>60.700208</td>\n",
       "    </tr>\n",
       "    <tr>\n",
       "      <th>307</th>\n",
       "      <td>2020</td>\n",
       "      <td>7</td>\n",
       "      <td>26</td>\n",
       "      <td>4085.262917</td>\n",
       "      <td>3816.232396</td>\n",
       "      <td>254.612188</td>\n",
       "      <td>15.559688</td>\n",
       "    </tr>\n",
       "    <tr>\n",
       "      <th>320</th>\n",
       "      <td>2020</td>\n",
       "      <td>8</td>\n",
       "      <td>8</td>\n",
       "      <td>4521.065312</td>\n",
       "      <td>4182.410729</td>\n",
       "      <td>305.493854</td>\n",
       "      <td>8.217812</td>\n",
       "    </tr>\n",
       "    <tr>\n",
       "      <th>16</th>\n",
       "      <td>2019</td>\n",
       "      <td>10</td>\n",
       "      <td>9</td>\n",
       "      <td>5126.048333</td>\n",
       "      <td>4927.258021</td>\n",
       "      <td>160.827812</td>\n",
       "      <td>71.452396</td>\n",
       "    </tr>\n",
       "  </tbody>\n",
       "</table>\n",
       "</div>"
      ],
      "text/plain": [
       "     year  month  day  HU_load_actual_entsoe_transparency  \\\n",
       "162  2020      3    3                         5443.331667   \n",
       "335  2020      8   23                         3960.763958   \n",
       "350  2020      9    7                         4784.802917   \n",
       "173  2020      3   14                         4771.922812   \n",
       "12   2019     10    5                         4630.265938   \n",
       "43   2019     11    5                         5353.278750   \n",
       "33   2019     10   26                         4547.082500   \n",
       "346  2020      9    3                         4714.163542   \n",
       "357  2020      9   14                         4884.174479   \n",
       "2    2019      9   25                         4945.151081   \n",
       "62   2019     11   24                         4642.486563   \n",
       "334  2020      8   22                         4000.430208   \n",
       "307  2020      7   26                         4085.262917   \n",
       "320  2020      8    8                         4521.065312   \n",
       "16   2019     10    9                         5126.048333   \n",
       "\n",
       "     HU_load_forecast_entsoe_transparency  HU_solar_generation_actual  \\\n",
       "162                           5377.903854                   46.019688   \n",
       "335                           3870.930313                  229.090312   \n",
       "350                           4376.682292                  268.929375   \n",
       "173                           4779.969271                  219.741667   \n",
       "12                            4291.139896                   76.037083   \n",
       "43                            5165.393437                   51.741979   \n",
       "33                            4420.777500                  141.480208   \n",
       "346                           4435.379063                  242.023854   \n",
       "357                           4605.015625                  299.658958   \n",
       "2                             4713.277703                   33.244865   \n",
       "62                            4340.946563                  105.838229   \n",
       "334                           3867.348229                  328.042604   \n",
       "307                           3816.232396                  254.612188   \n",
       "320                           4182.410729                  305.493854   \n",
       "16                            4927.258021                  160.827812   \n",
       "\n",
       "     HU_wind_onshore_generation_actual  \n",
       "162                         120.875729  \n",
       "335                          76.817188  \n",
       "350                         107.391771  \n",
       "173                         102.472917  \n",
       "12                          161.620729  \n",
       "43                           40.617292  \n",
       "33                           28.962812  \n",
       "346                          13.868333  \n",
       "357                           5.386250  \n",
       "2                            27.195405  \n",
       "62                           98.069479  \n",
       "334                          60.700208  \n",
       "307                          15.559688  \n",
       "320                           8.217812  \n",
       "16                           71.452396  "
      ]
     },
     "execution_count": 52,
     "metadata": {},
     "output_type": "execute_result"
    }
   ],
   "source": [
    "df_hu_Davg.sample(15)"
   ]
  },
  {
   "cell_type": "code",
   "execution_count": 53,
   "id": "ba350f46-1772-4a12-9823-464b73f45460",
   "metadata": {},
   "outputs": [],
   "source": [
    "df_hu_Davg['HU_all_actual'] = df_hu_Davg.HU_load_actual_entsoe_transparency+df_hu_Davg.HU_solar_generation_actual+df_hu_Davg.HU_wind_onshore_generation_actual"
   ]
  },
  {
   "cell_type": "code",
   "execution_count": 54,
   "id": "fdaaac5a-4eea-4a40-a68a-da12aca81922",
   "metadata": {},
   "outputs": [],
   "source": [
    "df_hu_Davg['HU_diff'] = df_hu_Davg.HU_load_forecast_entsoe_transparency - df_hu_Davg.HU_all_actual"
   ]
  },
  {
   "cell_type": "code",
   "execution_count": 55,
   "id": "dd8a91fb-f658-42c0-abda-55e5141cec45",
   "metadata": {},
   "outputs": [
    {
     "data": {
      "text/plain": [
       "<Axes: >"
      ]
     },
     "execution_count": 55,
     "metadata": {},
     "output_type": "execute_result"
    },
    {
     "data": {
      "image/png": "[encoded data removed]",
      "text/plain": [
       "<Figure size 640x480 with 1 Axes>"
      ]
     },
     "metadata": {},
     "output_type": "display_data"
    }
   ],
   "source": [
    "df_hu_Davg.HU_diff.plot()"
   ]
  },
  {
   "cell_type": "code",
   "execution_count": null,
   "id": "ddfcfcbc-e489-41c6-864f-395f4e113444",
   "metadata": {},
   "outputs": [],
   "source": []
  }
 ],
 "metadata": {
  "kernelspec": {
   "display_name": "Python 3 (ipykernel)",
   "language": "python",
   "name": "python3"
  },
  "language_info": {
   "codemirror_mode": {
    "name": "ipython",
    "version": 3
   },
   "file_extension": ".py",
   "mimetype": "text/x-python",
   "name": "python",
   "nbconvert_exporter": "python",
   "pygments_lexer": "ipython3",
   "version": "3.11.9"
  }
 },
 "nbformat": 4,
 "nbformat_minor": 5
}
