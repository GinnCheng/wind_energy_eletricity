{
 "cells": [
  {
   "cell_type": "code",
   "execution_count": 1,
   "id": "a33c5de2-9cd5-46ea-8395-3aa7fe12a998",
   "metadata": {},
   "outputs": [
    {
     "name": "stdout",
     "output_type": "stream",
     "text": [
      "time_series_15min_singleindex.csv\n"
     ]
    }
   ],
   "source": [
    "%ls ../../Datasets/from_candice/"
   ]
  },
  {
   "cell_type": "code",
   "execution_count": 2,
   "id": "45fdd81a-566f-43c7-8d5d-26ccf01b4c32",
   "metadata": {},
   "outputs": [],
   "source": [
    "import pandas as pd\n",
    "import matplotlib.pyplot as plt\n",
    "import seaborn as sns\n",
    "import warnings\n",
    "warnings.filterwarnings(\"ignore\")"
   ]
  },
  {
   "cell_type": "code",
   "execution_count": 3,
   "id": "88f0bfc9-d010-471c-b15b-5d3ccd24abbf",
   "metadata": {},
   "outputs": [],
   "source": [
    "file_path = '../../Datasets/from_candice/time_series_15min_singleindex.csv'"
   ]
  },
  {
   "cell_type": "code",
   "execution_count": 4,
   "id": "3766e86c-742e-4c95-b965-49a3dc02a7fb",
   "metadata": {},
   "outputs": [],
   "source": [
    "df = pd.read_csv(file_path)"
   ]
  },
  {
   "cell_type": "code",
   "execution_count": 5,
   "id": "c1ac0b87-3bda-4fbd-9ccb-f660cb6cca89",
   "metadata": {},
   "outputs": [
    {
     "data": {
      "text/plain": [
       "HU_solar_generation_actual                    165745\n",
       "DE_LU_load_forecast_entsoe_transparency       134982\n",
       "DE_LU_load_actual_entsoe_transparency         131509\n",
       "DE_LU_solar_generation_actual                 131451\n",
       "DE_LU_wind_offshore_generation_actual         131422\n",
       "                                               ...  \n",
       "DE_50hertz_wind_onshore_generation_actual          6\n",
       "DE_50hertz_wind_offshore_generation_actual         6\n",
       "DE_50hertz_wind_generation_actual                  6\n",
       "cet_cest_timestamp                                 0\n",
       "utc_timestamp                                      0\n",
       "Length: 61, dtype: int64"
      ]
     },
     "execution_count": 5,
     "metadata": {},
     "output_type": "execute_result"
    }
   ],
   "source": [
    "df.isnull().sum().sort_values(ascending=False)"
   ]
  },
  {
   "cell_type": "code",
   "execution_count": 6,
   "id": "287d3543-2e98-4f16-834d-48d685db2648",
   "metadata": {},
   "outputs": [
    {
     "data": {
      "text/plain": [
       "(201604, 61)"
      ]
     },
     "execution_count": 6,
     "metadata": {},
     "output_type": "execute_result"
    }
   ],
   "source": [
    "df.shape"
   ]
  },
  {
   "cell_type": "code",
   "execution_count": 7,
   "id": "5593aa66-e0e0-42bb-ad28-9196cd6f4c38",
   "metadata": {},
   "outputs": [],
   "source": [
    "# select Germany only for better data view\n",
    "column_sl = df.filter(like='HU')"
   ]
  },
  {
   "cell_type": "code",
   "execution_count": 8,
   "id": "a700ac71-5921-4f8f-bb5b-5ca272652c3e",
   "metadata": {},
   "outputs": [],
   "source": [
    "# let's select Hungary at first\n",
    "hu_colns = [col for col in df.columns if col in ['utc_timestamp']+column_sl.columns.tolist()]"
   ]
  },
  {
   "cell_type": "code",
   "execution_count": 9,
   "id": "a1903b69-a9f8-4062-80d2-924340f694ac",
   "metadata": {},
   "outputs": [],
   "source": [
    "df_hu = df[hu_colns]"
   ]
  },
  {
   "cell_type": "code",
   "execution_count": 10,
   "id": "6e1fcb0f-c226-4fef-8958-1df5b5ea81cb",
   "metadata": {},
   "outputs": [
    {
     "data": {
      "text/html": [
       "<div>\n",
       "<style scoped>\n",
       "    .dataframe tbody tr th:only-of-type {\n",
       "        vertical-align: middle;\n",
       "    }\n",
       "\n",
       "    .dataframe tbody tr th {\n",
       "        vertical-align: top;\n",
       "    }\n",
       "\n",
       "    .dataframe thead th {\n",
       "        text-align: right;\n",
       "    }\n",
       "</style>\n",
       "<table border=\"1\" class=\"dataframe\">\n",
       "  <thead>\n",
       "    <tr style=\"text-align: right;\">\n",
       "      <th></th>\n",
       "      <th>utc_timestamp</th>\n",
       "      <th>HU_load_actual_entsoe_transparency</th>\n",
       "      <th>HU_load_forecast_entsoe_transparency</th>\n",
       "      <th>HU_solar_generation_actual</th>\n",
       "      <th>HU_wind_onshore_generation_actual</th>\n",
       "    </tr>\n",
       "  </thead>\n",
       "  <tbody>\n",
       "    <tr>\n",
       "      <th>0</th>\n",
       "      <td>2014-12-31T23:00:00Z</td>\n",
       "      <td>NaN</td>\n",
       "      <td>NaN</td>\n",
       "      <td>NaN</td>\n",
       "      <td>NaN</td>\n",
       "    </tr>\n",
       "    <tr>\n",
       "      <th>1</th>\n",
       "      <td>2014-12-31T23:15:00Z</td>\n",
       "      <td>NaN</td>\n",
       "      <td>NaN</td>\n",
       "      <td>NaN</td>\n",
       "      <td>NaN</td>\n",
       "    </tr>\n",
       "    <tr>\n",
       "      <th>2</th>\n",
       "      <td>2014-12-31T23:30:00Z</td>\n",
       "      <td>NaN</td>\n",
       "      <td>NaN</td>\n",
       "      <td>NaN</td>\n",
       "      <td>NaN</td>\n",
       "    </tr>\n",
       "    <tr>\n",
       "      <th>3</th>\n",
       "      <td>2014-12-31T23:45:00Z</td>\n",
       "      <td>NaN</td>\n",
       "      <td>NaN</td>\n",
       "      <td>NaN</td>\n",
       "      <td>NaN</td>\n",
       "    </tr>\n",
       "    <tr>\n",
       "      <th>4</th>\n",
       "      <td>2015-01-01T00:00:00Z</td>\n",
       "      <td>NaN</td>\n",
       "      <td>NaN</td>\n",
       "      <td>NaN</td>\n",
       "      <td>NaN</td>\n",
       "    </tr>\n",
       "  </tbody>\n",
       "</table>\n",
       "</div>"
      ],
      "text/plain": [
       "          utc_timestamp  HU_load_actual_entsoe_transparency  \\\n",
       "0  2014-12-31T23:00:00Z                                 NaN   \n",
       "1  2014-12-31T23:15:00Z                                 NaN   \n",
       "2  2014-12-31T23:30:00Z                                 NaN   \n",
       "3  2014-12-31T23:45:00Z                                 NaN   \n",
       "4  2015-01-01T00:00:00Z                                 NaN   \n",
       "\n",
       "   HU_load_forecast_entsoe_transparency  HU_solar_generation_actual  \\\n",
       "0                                   NaN                         NaN   \n",
       "1                                   NaN                         NaN   \n",
       "2                                   NaN                         NaN   \n",
       "3                                   NaN                         NaN   \n",
       "4                                   NaN                         NaN   \n",
       "\n",
       "   HU_wind_onshore_generation_actual  \n",
       "0                                NaN  \n",
       "1                                NaN  \n",
       "2                                NaN  \n",
       "3                                NaN  \n",
       "4                                NaN  "
      ]
     },
     "execution_count": 10,
     "metadata": {},
     "output_type": "execute_result"
    }
   ],
   "source": [
    "df_hu.head()"
   ]
  },
  {
   "cell_type": "code",
   "execution_count": 11,
   "id": "9c6f4fae-09e2-4c45-8b7b-ac8ed7c40b35",
   "metadata": {},
   "outputs": [
    {
     "data": {
      "text/plain": [
       "utc_timestamp                                0\n",
       "HU_load_actual_entsoe_transparency           6\n",
       "HU_load_forecast_entsoe_transparency       194\n",
       "HU_solar_generation_actual              165745\n",
       "HU_wind_onshore_generation_actual         8583\n",
       "dtype: int64"
      ]
     },
     "execution_count": 11,
     "metadata": {},
     "output_type": "execute_result"
    }
   ],
   "source": [
    "df_hu.isnull().sum()"
   ]
  },
  {
   "cell_type": "code",
   "execution_count": 12,
   "id": "0bfcf4b7-6872-49bd-850d-79279ff4d8c7",
   "metadata": {},
   "outputs": [],
   "source": [
    "# format the timestamp\n",
    "df_hu['utc_timestamp'] = pd.to_datetime(df_hu['utc_timestamp'])\n",
    "# df_hu['cet_cest_timestamp'] = pd.to_datetime(df_hu['cet_cest_timestamp'])"
   ]
  },
  {
   "cell_type": "code",
   "execution_count": 13,
   "id": "49163903-5adf-42e7-8055-01a634915260",
   "metadata": {},
   "outputs": [
    {
     "data": {
      "text/html": [
       "<div>\n",
       "<style scoped>\n",
       "    .dataframe tbody tr th:only-of-type {\n",
       "        vertical-align: middle;\n",
       "    }\n",
       "\n",
       "    .dataframe tbody tr th {\n",
       "        vertical-align: top;\n",
       "    }\n",
       "\n",
       "    .dataframe thead th {\n",
       "        text-align: right;\n",
       "    }\n",
       "</style>\n",
       "<table border=\"1\" class=\"dataframe\">\n",
       "  <thead>\n",
       "    <tr style=\"text-align: right;\">\n",
       "      <th></th>\n",
       "      <th>utc_timestamp</th>\n",
       "      <th>HU_load_actual_entsoe_transparency</th>\n",
       "      <th>HU_load_forecast_entsoe_transparency</th>\n",
       "      <th>HU_solar_generation_actual</th>\n",
       "      <th>HU_wind_onshore_generation_actual</th>\n",
       "    </tr>\n",
       "  </thead>\n",
       "  <tbody>\n",
       "    <tr>\n",
       "      <th>0</th>\n",
       "      <td>2014-12-31 23:00:00+00:00</td>\n",
       "      <td>NaN</td>\n",
       "      <td>NaN</td>\n",
       "      <td>NaN</td>\n",
       "      <td>NaN</td>\n",
       "    </tr>\n",
       "    <tr>\n",
       "      <th>1</th>\n",
       "      <td>2014-12-31 23:15:00+00:00</td>\n",
       "      <td>NaN</td>\n",
       "      <td>NaN</td>\n",
       "      <td>NaN</td>\n",
       "      <td>NaN</td>\n",
       "    </tr>\n",
       "    <tr>\n",
       "      <th>2</th>\n",
       "      <td>2014-12-31 23:30:00+00:00</td>\n",
       "      <td>NaN</td>\n",
       "      <td>NaN</td>\n",
       "      <td>NaN</td>\n",
       "      <td>NaN</td>\n",
       "    </tr>\n",
       "    <tr>\n",
       "      <th>3</th>\n",
       "      <td>2014-12-31 23:45:00+00:00</td>\n",
       "      <td>NaN</td>\n",
       "      <td>NaN</td>\n",
       "      <td>NaN</td>\n",
       "      <td>NaN</td>\n",
       "    </tr>\n",
       "    <tr>\n",
       "      <th>4</th>\n",
       "      <td>2015-01-01 00:00:00+00:00</td>\n",
       "      <td>NaN</td>\n",
       "      <td>NaN</td>\n",
       "      <td>NaN</td>\n",
       "      <td>NaN</td>\n",
       "    </tr>\n",
       "  </tbody>\n",
       "</table>\n",
       "</div>"
      ],
      "text/plain": [
       "              utc_timestamp  HU_load_actual_entsoe_transparency  \\\n",
       "0 2014-12-31 23:00:00+00:00                                 NaN   \n",
       "1 2014-12-31 23:15:00+00:00                                 NaN   \n",
       "2 2014-12-31 23:30:00+00:00                                 NaN   \n",
       "3 2014-12-31 23:45:00+00:00                                 NaN   \n",
       "4 2015-01-01 00:00:00+00:00                                 NaN   \n",
       "\n",
       "   HU_load_forecast_entsoe_transparency  HU_solar_generation_actual  \\\n",
       "0                                   NaN                         NaN   \n",
       "1                                   NaN                         NaN   \n",
       "2                                   NaN                         NaN   \n",
       "3                                   NaN                         NaN   \n",
       "4                                   NaN                         NaN   \n",
       "\n",
       "   HU_wind_onshore_generation_actual  \n",
       "0                                NaN  \n",
       "1                                NaN  \n",
       "2                                NaN  \n",
       "3                                NaN  \n",
       "4                                NaN  "
      ]
     },
     "execution_count": 13,
     "metadata": {},
     "output_type": "execute_result"
    }
   ],
   "source": [
    "df_hu.head()"
   ]
  },
  {
   "cell_type": "code",
   "execution_count": 14,
   "id": "49a90369-c0ec-4fa5-8584-1b7ab429c3e8",
   "metadata": {},
   "outputs": [],
   "source": [
    "df_hu.rename(columns={'utc_timestamp':'utc'}, inplace=True)"
   ]
  },
  {
   "cell_type": "code",
   "execution_count": 15,
   "id": "23e702e0-6e3b-47fa-9b6a-402bfb77d11e",
   "metadata": {},
   "outputs": [],
   "source": [
    "df_hu['year'] = df_hu.utc.dt.year\n",
    "df_hu['month'] = df_hu.utc.dt.month\n",
    "df_hu['day'] = df_hu.utc.dt.day\n",
    "df_hu['hour'] = df_hu.utc.dt.hour\n",
    "df_hu['minute'] = df_hu.utc.dt.minute"
   ]
  },
  {
   "cell_type": "code",
   "execution_count": 16,
   "id": "84749960-4991-441c-9cb9-e00cdce3ebbd",
   "metadata": {},
   "outputs": [
    {
     "data": {
      "text/html": [
       "<div>\n",
       "<style scoped>\n",
       "    .dataframe tbody tr th:only-of-type {\n",
       "        vertical-align: middle;\n",
       "    }\n",
       "\n",
       "    .dataframe tbody tr th {\n",
       "        vertical-align: top;\n",
       "    }\n",
       "\n",
       "    .dataframe thead th {\n",
       "        text-align: right;\n",
       "    }\n",
       "</style>\n",
       "<table border=\"1\" class=\"dataframe\">\n",
       "  <thead>\n",
       "    <tr style=\"text-align: right;\">\n",
       "      <th></th>\n",
       "      <th>utc</th>\n",
       "      <th>HU_load_actual_entsoe_transparency</th>\n",
       "      <th>HU_load_forecast_entsoe_transparency</th>\n",
       "      <th>HU_solar_generation_actual</th>\n",
       "      <th>HU_wind_onshore_generation_actual</th>\n",
       "      <th>year</th>\n",
       "      <th>month</th>\n",
       "      <th>day</th>\n",
       "      <th>hour</th>\n",
       "      <th>minute</th>\n",
       "    </tr>\n",
       "  </thead>\n",
       "  <tbody>\n",
       "    <tr>\n",
       "      <th>50964</th>\n",
       "      <td>2016-06-14 20:00:00+00:00</td>\n",
       "      <td>4806.00</td>\n",
       "      <td>4548.29</td>\n",
       "      <td>NaN</td>\n",
       "      <td>27.05</td>\n",
       "      <td>2016</td>\n",
       "      <td>6</td>\n",
       "      <td>14</td>\n",
       "      <td>20</td>\n",
       "      <td>0</td>\n",
       "    </tr>\n",
       "    <tr>\n",
       "      <th>183175</th>\n",
       "      <td>2020-03-23 00:45:00+00:00</td>\n",
       "      <td>4031.56</td>\n",
       "      <td>3687.90</td>\n",
       "      <td>0.0</td>\n",
       "      <td>163.30</td>\n",
       "      <td>2020</td>\n",
       "      <td>3</td>\n",
       "      <td>23</td>\n",
       "      <td>0</td>\n",
       "      <td>45</td>\n",
       "    </tr>\n",
       "    <tr>\n",
       "      <th>183179</th>\n",
       "      <td>2020-03-23 01:45:00+00:00</td>\n",
       "      <td>3890.44</td>\n",
       "      <td>3592.76</td>\n",
       "      <td>0.0</td>\n",
       "      <td>158.61</td>\n",
       "      <td>2020</td>\n",
       "      <td>3</td>\n",
       "      <td>23</td>\n",
       "      <td>1</td>\n",
       "      <td>45</td>\n",
       "    </tr>\n",
       "    <tr>\n",
       "      <th>106438</th>\n",
       "      <td>2018-01-13 16:30:00+00:00</td>\n",
       "      <td>5570.18</td>\n",
       "      <td>5416.81</td>\n",
       "      <td>NaN</td>\n",
       "      <td>21.84</td>\n",
       "      <td>2018</td>\n",
       "      <td>1</td>\n",
       "      <td>13</td>\n",
       "      <td>16</td>\n",
       "      <td>30</td>\n",
       "    </tr>\n",
       "    <tr>\n",
       "      <th>72579</th>\n",
       "      <td>2017-01-25 23:45:00+00:00</td>\n",
       "      <td>4842.99</td>\n",
       "      <td>4869.14</td>\n",
       "      <td>NaN</td>\n",
       "      <td>NaN</td>\n",
       "      <td>2017</td>\n",
       "      <td>1</td>\n",
       "      <td>25</td>\n",
       "      <td>23</td>\n",
       "      <td>45</td>\n",
       "    </tr>\n",
       "  </tbody>\n",
       "</table>\n",
       "</div>"
      ],
      "text/plain": [
       "                             utc  HU_load_actual_entsoe_transparency  \\\n",
       "50964  2016-06-14 20:00:00+00:00                             4806.00   \n",
       "183175 2020-03-23 00:45:00+00:00                             4031.56   \n",
       "183179 2020-03-23 01:45:00+00:00                             3890.44   \n",
       "106438 2018-01-13 16:30:00+00:00                             5570.18   \n",
       "72579  2017-01-25 23:45:00+00:00                             4842.99   \n",
       "\n",
       "        HU_load_forecast_entsoe_transparency  HU_solar_generation_actual  \\\n",
       "50964                                4548.29                         NaN   \n",
       "183175                               3687.90                         0.0   \n",
       "183179                               3592.76                         0.0   \n",
       "106438                               5416.81                         NaN   \n",
       "72579                                4869.14                         NaN   \n",
       "\n",
       "        HU_wind_onshore_generation_actual  year  month  day  hour  minute  \n",
       "50964                               27.05  2016      6   14    20       0  \n",
       "183175                             163.30  2020      3   23     0      45  \n",
       "183179                             158.61  2020      3   23     1      45  \n",
       "106438                              21.84  2018      1   13    16      30  \n",
       "72579                                 NaN  2017      1   25    23      45  "
      ]
     },
     "execution_count": 16,
     "metadata": {},
     "output_type": "execute_result"
    }
   ],
   "source": [
    "# take a look at the data now\n",
    "df_hu.sample(5)"
   ]
  },
  {
   "cell_type": "code",
   "execution_count": 17,
   "id": "6a2e3d6b-5c53-439a-bcb9-729b3f286d6e",
   "metadata": {},
   "outputs": [],
   "source": [
    "# drop the na\n",
    "df_hu_cl = df_hu.fillna(value=0)"
   ]
  },
  {
   "cell_type": "code",
   "execution_count": 18,
   "id": "1460e7af-d8dd-4087-84e9-2af55d31fa6e",
   "metadata": {},
   "outputs": [
    {
     "data": {
      "text/plain": [
       "utc                                     0\n",
       "HU_load_actual_entsoe_transparency      0\n",
       "HU_load_forecast_entsoe_transparency    0\n",
       "HU_solar_generation_actual              0\n",
       "HU_wind_onshore_generation_actual       0\n",
       "year                                    0\n",
       "month                                   0\n",
       "day                                     0\n",
       "hour                                    0\n",
       "minute                                  0\n",
       "dtype: int64"
      ]
     },
     "execution_count": 18,
     "metadata": {},
     "output_type": "execute_result"
    }
   ],
   "source": [
    "df_hu_cl.isnull().sum()"
   ]
  },
  {
   "cell_type": "code",
   "execution_count": 25,
   "id": "5a51c8dd-81f9-49e6-ad25-247d8ac42605",
   "metadata": {},
   "outputs": [
    {
     "data": {
      "text/plain": [
       "(201604, 10)"
      ]
     },
     "execution_count": 25,
     "metadata": {},
     "output_type": "execute_result"
    }
   ],
   "source": [
    "df_hu_cl.shape"
   ]
  },
  {
   "cell_type": "code",
   "execution_count": 26,
   "id": "46ce7112-2b14-429e-bc72-6032a0836fb3",
   "metadata": {},
   "outputs": [],
   "source": [
    "# group the data find the daily average\n",
    "df_hu_min_avg = pd.DataFrame(df_hu_cl.groupby(by=['year','month','day','hour','minute']).mean())"
   ]
  },
  {
   "cell_type": "code",
   "execution_count": 27,
   "id": "14aca90b-b556-40b6-9515-bc9728522958",
   "metadata": {},
   "outputs": [],
   "source": [
    "df_hu_min_avg = df_hu_min_avg.reset_index()"
   ]
  },
  {
   "cell_type": "code",
   "execution_count": 28,
   "id": "9e892c24-6dff-4962-b539-ba5b9ed65407",
   "metadata": {},
   "outputs": [],
   "source": [
    "df_hu_min_avg.drop(columns='utc',inplace=True)"
   ]
  },
  {
   "cell_type": "code",
   "execution_count": 29,
   "id": "b4e1c5f3-0e1e-4fc3-a771-ff4f2cb7f2ab",
   "metadata": {},
   "outputs": [],
   "source": [
    "df_hu_min_avg.sort_values(by=['year','month','day'],inplace=True)"
   ]
  },
  {
   "cell_type": "code",
   "execution_count": 30,
   "id": "5a3e309b-bc00-400c-bb2e-d810b721bb63",
   "metadata": {},
   "outputs": [
    {
     "data": {
      "text/html": [
       "<div>\n",
       "<style scoped>\n",
       "    .dataframe tbody tr th:only-of-type {\n",
       "        vertical-align: middle;\n",
       "    }\n",
       "\n",
       "    .dataframe tbody tr th {\n",
       "        vertical-align: top;\n",
       "    }\n",
       "\n",
       "    .dataframe thead th {\n",
       "        text-align: right;\n",
       "    }\n",
       "</style>\n",
       "<table border=\"1\" class=\"dataframe\">\n",
       "  <thead>\n",
       "    <tr style=\"text-align: right;\">\n",
       "      <th></th>\n",
       "      <th>year</th>\n",
       "      <th>month</th>\n",
       "      <th>day</th>\n",
       "      <th>hour</th>\n",
       "      <th>minute</th>\n",
       "      <th>HU_load_actual_entsoe_transparency</th>\n",
       "      <th>HU_load_forecast_entsoe_transparency</th>\n",
       "      <th>HU_solar_generation_actual</th>\n",
       "      <th>HU_wind_onshore_generation_actual</th>\n",
       "    </tr>\n",
       "  </thead>\n",
       "  <tbody>\n",
       "    <tr>\n",
       "      <th>168219</th>\n",
       "      <td>2019</td>\n",
       "      <td>10</td>\n",
       "      <td>19</td>\n",
       "      <td>5</td>\n",
       "      <td>45</td>\n",
       "      <td>4766.13</td>\n",
       "      <td>4529.68</td>\n",
       "      <td>58.62</td>\n",
       "      <td>6.03</td>\n",
       "    </tr>\n",
       "    <tr>\n",
       "      <th>114957</th>\n",
       "      <td>2018</td>\n",
       "      <td>4</td>\n",
       "      <td>12</td>\n",
       "      <td>10</td>\n",
       "      <td>15</td>\n",
       "      <td>5102.46</td>\n",
       "      <td>4897.49</td>\n",
       "      <td>0.00</td>\n",
       "      <td>53.78</td>\n",
       "    </tr>\n",
       "    <tr>\n",
       "      <th>185332</th>\n",
       "      <td>2020</td>\n",
       "      <td>4</td>\n",
       "      <td>14</td>\n",
       "      <td>12</td>\n",
       "      <td>0</td>\n",
       "      <td>4700.51</td>\n",
       "      <td>4504.46</td>\n",
       "      <td>476.26</td>\n",
       "      <td>278.64</td>\n",
       "    </tr>\n",
       "    <tr>\n",
       "      <th>741</th>\n",
       "      <td>2015</td>\n",
       "      <td>1</td>\n",
       "      <td>8</td>\n",
       "      <td>16</td>\n",
       "      <td>15</td>\n",
       "      <td>6084.77</td>\n",
       "      <td>5876.00</td>\n",
       "      <td>0.00</td>\n",
       "      <td>59.26</td>\n",
       "    </tr>\n",
       "    <tr>\n",
       "      <th>180029</th>\n",
       "      <td>2020</td>\n",
       "      <td>2</td>\n",
       "      <td>19</td>\n",
       "      <td>6</td>\n",
       "      <td>15</td>\n",
       "      <td>5859.80</td>\n",
       "      <td>5675.26</td>\n",
       "      <td>62.90</td>\n",
       "      <td>18.25</td>\n",
       "    </tr>\n",
       "    <tr>\n",
       "      <th>184818</th>\n",
       "      <td>2020</td>\n",
       "      <td>4</td>\n",
       "      <td>9</td>\n",
       "      <td>3</td>\n",
       "      <td>30</td>\n",
       "      <td>4057.05</td>\n",
       "      <td>4018.65</td>\n",
       "      <td>0.00</td>\n",
       "      <td>45.48</td>\n",
       "    </tr>\n",
       "    <tr>\n",
       "      <th>177110</th>\n",
       "      <td>2020</td>\n",
       "      <td>1</td>\n",
       "      <td>19</td>\n",
       "      <td>20</td>\n",
       "      <td>30</td>\n",
       "      <td>5289.77</td>\n",
       "      <td>5124.89</td>\n",
       "      <td>0.00</td>\n",
       "      <td>93.33</td>\n",
       "    </tr>\n",
       "    <tr>\n",
       "      <th>126900</th>\n",
       "      <td>2018</td>\n",
       "      <td>8</td>\n",
       "      <td>14</td>\n",
       "      <td>20</td>\n",
       "      <td>0</td>\n",
       "      <td>4948.18</td>\n",
       "      <td>4954.29</td>\n",
       "      <td>0.00</td>\n",
       "      <td>63.04</td>\n",
       "    </tr>\n",
       "    <tr>\n",
       "      <th>14392</th>\n",
       "      <td>2015</td>\n",
       "      <td>5</td>\n",
       "      <td>30</td>\n",
       "      <td>21</td>\n",
       "      <td>0</td>\n",
       "      <td>4133.39</td>\n",
       "      <td>3903.87</td>\n",
       "      <td>0.00</td>\n",
       "      <td>68.52</td>\n",
       "    </tr>\n",
       "    <tr>\n",
       "      <th>195557</th>\n",
       "      <td>2020</td>\n",
       "      <td>7</td>\n",
       "      <td>30</td>\n",
       "      <td>0</td>\n",
       "      <td>15</td>\n",
       "      <td>4172.66</td>\n",
       "      <td>3994.94</td>\n",
       "      <td>0.00</td>\n",
       "      <td>7.64</td>\n",
       "    </tr>\n",
       "  </tbody>\n",
       "</table>\n",
       "</div>"
      ],
      "text/plain": [
       "        year  month  day  hour  minute  HU_load_actual_entsoe_transparency  \\\n",
       "168219  2019     10   19     5      45                             4766.13   \n",
       "114957  2018      4   12    10      15                             5102.46   \n",
       "185332  2020      4   14    12       0                             4700.51   \n",
       "741     2015      1    8    16      15                             6084.77   \n",
       "180029  2020      2   19     6      15                             5859.80   \n",
       "184818  2020      4    9     3      30                             4057.05   \n",
       "177110  2020      1   19    20      30                             5289.77   \n",
       "126900  2018      8   14    20       0                             4948.18   \n",
       "14392   2015      5   30    21       0                             4133.39   \n",
       "195557  2020      7   30     0      15                             4172.66   \n",
       "\n",
       "        HU_load_forecast_entsoe_transparency  HU_solar_generation_actual  \\\n",
       "168219                               4529.68                       58.62   \n",
       "114957                               4897.49                        0.00   \n",
       "185332                               4504.46                      476.26   \n",
       "741                                  5876.00                        0.00   \n",
       "180029                               5675.26                       62.90   \n",
       "184818                               4018.65                        0.00   \n",
       "177110                               5124.89                        0.00   \n",
       "126900                               4954.29                        0.00   \n",
       "14392                                3903.87                        0.00   \n",
       "195557                               3994.94                        0.00   \n",
       "\n",
       "        HU_wind_onshore_generation_actual  \n",
       "168219                               6.03  \n",
       "114957                              53.78  \n",
       "185332                             278.64  \n",
       "741                                 59.26  \n",
       "180029                              18.25  \n",
       "184818                              45.48  \n",
       "177110                              93.33  \n",
       "126900                              63.04  \n",
       "14392                               68.52  \n",
       "195557                               7.64  "
      ]
     },
     "execution_count": 30,
     "metadata": {},
     "output_type": "execute_result"
    }
   ],
   "source": [
    "df_hu_min_avg.sample(10)"
   ]
  },
  {
   "cell_type": "code",
   "execution_count": 31,
   "id": "31daea37-a2e5-45a9-8ecf-d6519f397f29",
   "metadata": {},
   "outputs": [
    {
     "data": {
      "text/plain": [
       "array([23,  0,  1,  2,  3,  4,  5,  6,  7,  8,  9, 10, 11, 12, 13, 14, 15,\n",
       "       16, 17, 18, 19, 20, 21, 22], dtype=int32)"
      ]
     },
     "execution_count": 31,
     "metadata": {},
     "output_type": "execute_result"
    }
   ],
   "source": [
    "df_hu_min_avg.hour.unique()"
   ]
  },
  {
   "cell_type": "code",
   "execution_count": 33,
   "id": "ba350f46-1772-4a12-9823-464b73f45460",
   "metadata": {},
   "outputs": [],
   "source": [
    "df_hu_min_avg['HU_all_actual'] = df_hu_min_avg.HU_load_actual_entsoe_transparency+df_hu_min_avg.HU_solar_generation_actual+df_hu_min_avg.HU_wind_onshore_generation_actual"
   ]
  },
  {
   "cell_type": "code",
   "execution_count": 34,
   "id": "fdaaac5a-4eea-4a40-a68a-da12aca81922",
   "metadata": {},
   "outputs": [],
   "source": [
    "df_hu_min_avg['HU_diff'] = df_hu_min_avg.HU_load_forecast_entsoe_transparency - df_hu_min_avg.HU_all_actual"
   ]
  },
  {
   "cell_type": "code",
   "execution_count": 35,
   "id": "dd8a91fb-f658-42c0-abda-55e5141cec45",
   "metadata": {},
   "outputs": [
    {
     "data": {
      "text/plain": [
       "<Axes: >"
      ]
     },
     "execution_count": 35,
     "metadata": {},
     "output_type": "execute_result"
    },
    {
     "data": {
      "image/png": "[encoded data removed]",
      "text/plain": [
       "<Figure size 640x480 with 1 Axes>"
      ]
     },
     "metadata": {},
     "output_type": "display_data"
    }
   ],
   "source": [
    "df_hu_min_avg.HU_diff.plot()"
   ]
  },
  {
   "cell_type": "code",
   "execution_count": null,
   "id": "ddfcfcbc-e489-41c6-864f-395f4e113444",
   "metadata": {},
   "outputs": [],
   "source": []
  },
  {
   "cell_type": "code",
   "execution_count": 38,
   "id": "4a22d4d6-1349-4b2b-99bf-f700af16e0d0",
   "metadata": {},
   "outputs": [
    {
     "data": {
      "image/png": "[encoded data removed]",
      "text/plain": [
       "<Figure size 800x400 with 1 Axes>"
      ]
     },
     "metadata": {},
     "output_type": "display_data"
    }
   ],
   "source": [
    "plt.figure(figsize=(8,4))\n",
    "sns.scatterplot(data=df_hu_min_avg, x='hour', y='HU_load_actual_entsoe_transparency')\n",
    "plt.show()"
   ]
  },
  {
   "cell_type": "code",
   "execution_count": null,
   "id": "1e8143ba-afa8-4694-985f-aa7b2f5520cc",
   "metadata": {},
   "outputs": [],
   "source": []
  }
 ],
 "metadata": {
  "kernelspec": {
   "display_name": "Python 3 (ipykernel)",
   "language": "python",
   "name": "python3"
  },
  "language_info": {
   "codemirror_mode": {
    "name": "ipython",
    "version": 3
   },
   "file_extension": ".py",
   "mimetype": "text/x-python",
   "name": "python",
   "nbconvert_exporter": "python",
   "pygments_lexer": "ipython3",
   "version": "3.11.9"
  }
 },
 "nbformat": 4,
 "nbformat_minor": 5
}
